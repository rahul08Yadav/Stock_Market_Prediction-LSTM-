{
 "cells": [
  {
   "cell_type": "code",
   "execution_count": 4,
   "metadata": {},
   "outputs": [],
   "source": [
    "import pandas as pd\n",
    "import math\n",
    "import numpy as np\n",
    "from sklearn.preprocessing import MinMaxScaler\n",
    "import tensorflow as tf\n",
    "import matplotlib.pyplot as plt"
   ]
  },
  {
   "cell_type": "code",
   "execution_count": 5,
   "metadata": {},
   "outputs": [
    {
     "data": {
      "text/plain": [
       "(1231, 7)"
      ]
     },
     "execution_count": 5,
     "metadata": {},
     "output_type": "execute_result"
    }
   ],
   "source": [
    "df = pd.read_csv(r'/home/rahul/Documents/TATAMOTORS.BO.csv')\n",
    "#Insert your file_path above \n",
    "df.shape"
   ]
  },
  {
   "cell_type": "code",
   "execution_count": 6,
   "metadata": {},
   "outputs": [
    {
     "data": {
      "text/html": [
       "<div>\n",
       "<style scoped>\n",
       "    .dataframe tbody tr th:only-of-type {\n",
       "        vertical-align: middle;\n",
       "    }\n",
       "\n",
       "    .dataframe tbody tr th {\n",
       "        vertical-align: top;\n",
       "    }\n",
       "\n",
       "    .dataframe thead th {\n",
       "        text-align: right;\n",
       "    }\n",
       "</style>\n",
       "<table border=\"1\" class=\"dataframe\">\n",
       "  <thead>\n",
       "    <tr style=\"text-align: right;\">\n",
       "      <th></th>\n",
       "      <th>Date</th>\n",
       "      <th>Open</th>\n",
       "      <th>High</th>\n",
       "      <th>Low</th>\n",
       "      <th>Close</th>\n",
       "      <th>Adj Close</th>\n",
       "      <th>Volume</th>\n",
       "    </tr>\n",
       "  </thead>\n",
       "  <tbody>\n",
       "    <tr>\n",
       "      <th>1221</th>\n",
       "      <td>2020-03-16</td>\n",
       "      <td>86.750000</td>\n",
       "      <td>87.650002</td>\n",
       "      <td>82.199997</td>\n",
       "      <td>82.949997</td>\n",
       "      <td>82.949997</td>\n",
       "      <td>3827222.0</td>\n",
       "    </tr>\n",
       "    <tr>\n",
       "      <th>1222</th>\n",
       "      <td>2020-03-17</td>\n",
       "      <td>82.699997</td>\n",
       "      <td>84.800003</td>\n",
       "      <td>77.500000</td>\n",
       "      <td>77.900002</td>\n",
       "      <td>77.900002</td>\n",
       "      <td>5206037.0</td>\n",
       "    </tr>\n",
       "    <tr>\n",
       "      <th>1223</th>\n",
       "      <td>2020-03-18</td>\n",
       "      <td>80.000000</td>\n",
       "      <td>80.500000</td>\n",
       "      <td>75.099998</td>\n",
       "      <td>75.500000</td>\n",
       "      <td>75.500000</td>\n",
       "      <td>3815807.0</td>\n",
       "    </tr>\n",
       "    <tr>\n",
       "      <th>1224</th>\n",
       "      <td>2020-03-19</td>\n",
       "      <td>70.599998</td>\n",
       "      <td>76.500000</td>\n",
       "      <td>68.800003</td>\n",
       "      <td>72.949997</td>\n",
       "      <td>72.949997</td>\n",
       "      <td>5387940.0</td>\n",
       "    </tr>\n",
       "    <tr>\n",
       "      <th>1225</th>\n",
       "      <td>2020-03-20</td>\n",
       "      <td>74.300003</td>\n",
       "      <td>79.550003</td>\n",
       "      <td>72.699997</td>\n",
       "      <td>77.400002</td>\n",
       "      <td>77.400002</td>\n",
       "      <td>4843183.0</td>\n",
       "    </tr>\n",
       "    <tr>\n",
       "      <th>1226</th>\n",
       "      <td>2020-03-23</td>\n",
       "      <td>71.000000</td>\n",
       "      <td>72.099998</td>\n",
       "      <td>69.699997</td>\n",
       "      <td>69.699997</td>\n",
       "      <td>69.699997</td>\n",
       "      <td>1526872.0</td>\n",
       "    </tr>\n",
       "    <tr>\n",
       "      <th>1227</th>\n",
       "      <td>2020-03-24</td>\n",
       "      <td>70.000000</td>\n",
       "      <td>71.199997</td>\n",
       "      <td>63.599998</td>\n",
       "      <td>68.599998</td>\n",
       "      <td>68.599998</td>\n",
       "      <td>2487156.0</td>\n",
       "    </tr>\n",
       "    <tr>\n",
       "      <th>1228</th>\n",
       "      <td>2020-03-25</td>\n",
       "      <td>68.900002</td>\n",
       "      <td>71.699997</td>\n",
       "      <td>67.099998</td>\n",
       "      <td>70.199997</td>\n",
       "      <td>70.199997</td>\n",
       "      <td>2611383.0</td>\n",
       "    </tr>\n",
       "    <tr>\n",
       "      <th>1229</th>\n",
       "      <td>2020-03-26</td>\n",
       "      <td>71.699997</td>\n",
       "      <td>73.500000</td>\n",
       "      <td>68.300003</td>\n",
       "      <td>70.800003</td>\n",
       "      <td>70.800003</td>\n",
       "      <td>2888342.0</td>\n",
       "    </tr>\n",
       "    <tr>\n",
       "      <th>1230</th>\n",
       "      <td>2020-03-27</td>\n",
       "      <td>71.050003</td>\n",
       "      <td>75.849998</td>\n",
       "      <td>69.400002</td>\n",
       "      <td>70.650002</td>\n",
       "      <td>70.650002</td>\n",
       "      <td>2962238.0</td>\n",
       "    </tr>\n",
       "  </tbody>\n",
       "</table>\n",
       "</div>"
      ],
      "text/plain": [
       "            Date       Open       High        Low      Close  Adj Close  \\\n",
       "1221  2020-03-16  86.750000  87.650002  82.199997  82.949997  82.949997   \n",
       "1222  2020-03-17  82.699997  84.800003  77.500000  77.900002  77.900002   \n",
       "1223  2020-03-18  80.000000  80.500000  75.099998  75.500000  75.500000   \n",
       "1224  2020-03-19  70.599998  76.500000  68.800003  72.949997  72.949997   \n",
       "1225  2020-03-20  74.300003  79.550003  72.699997  77.400002  77.400002   \n",
       "1226  2020-03-23  71.000000  72.099998  69.699997  69.699997  69.699997   \n",
       "1227  2020-03-24  70.000000  71.199997  63.599998  68.599998  68.599998   \n",
       "1228  2020-03-25  68.900002  71.699997  67.099998  70.199997  70.199997   \n",
       "1229  2020-03-26  71.699997  73.500000  68.300003  70.800003  70.800003   \n",
       "1230  2020-03-27  71.050003  75.849998  69.400002  70.650002  70.650002   \n",
       "\n",
       "         Volume  \n",
       "1221  3827222.0  \n",
       "1222  5206037.0  \n",
       "1223  3815807.0  \n",
       "1224  5387940.0  \n",
       "1225  4843183.0  \n",
       "1226  1526872.0  \n",
       "1227  2487156.0  \n",
       "1228  2611383.0  \n",
       "1229  2888342.0  \n",
       "1230  2962238.0  "
      ]
     },
     "execution_count": 6,
     "metadata": {},
     "output_type": "execute_result"
    }
   ],
   "source": [
    "df.tail(10)"
   ]
  },
  {
   "cell_type": "code",
   "execution_count": 7,
   "metadata": {},
   "outputs": [
    {
     "name": "stdout",
     "output_type": "stream",
     "text": [
      "<class 'pandas.core.frame.DataFrame'>\n",
      "RangeIndex: 1231 entries, 0 to 1230\n",
      "Data columns (total 7 columns):\n",
      " #   Column     Non-Null Count  Dtype  \n",
      "---  ------     --------------  -----  \n",
      " 0   Date       1231 non-null   object \n",
      " 1   Open       1230 non-null   float64\n",
      " 2   High       1230 non-null   float64\n",
      " 3   Low        1230 non-null   float64\n",
      " 4   Close      1230 non-null   float64\n",
      " 5   Adj Close  1230 non-null   float64\n",
      " 6   Volume     1230 non-null   float64\n",
      "dtypes: float64(6), object(1)\n",
      "memory usage: 67.4+ KB\n"
     ]
    }
   ],
   "source": [
    "df.info()"
   ]
  },
  {
   "cell_type": "code",
   "execution_count": 8,
   "metadata": {},
   "outputs": [
    {
     "data": {
      "text/plain": [
       "Date         0\n",
       "Open         1\n",
       "High         1\n",
       "Low          1\n",
       "Close        1\n",
       "Adj Close    1\n",
       "Volume       1\n",
       "dtype: int64"
      ]
     },
     "execution_count": 8,
     "metadata": {},
     "output_type": "execute_result"
    }
   ],
   "source": [
    "df.isnull().sum()"
   ]
  },
  {
   "cell_type": "code",
   "execution_count": 9,
   "metadata": {},
   "outputs": [],
   "source": [
    "df =df.dropna()"
   ]
  },
  {
   "cell_type": "code",
   "execution_count": 10,
   "metadata": {},
   "outputs": [
    {
     "data": {
      "text/plain": [
       "Date         0\n",
       "Open         0\n",
       "High         0\n",
       "Low          0\n",
       "Close        0\n",
       "Adj Close    0\n",
       "Volume       0\n",
       "dtype: int64"
      ]
     },
     "execution_count": 10,
     "metadata": {},
     "output_type": "execute_result"
    }
   ],
   "source": [
    "df.isnull().sum()"
   ]
  },
  {
   "cell_type": "code",
   "execution_count": 18,
   "metadata": {},
   "outputs": [
    {
     "data": {
      "image/png": "[encoded data removed]",
      "text/plain": [
       "<Figure size 1152x576 with 1 Axes>"
      ]
     },
     "metadata": {
      "needs_background": "light"
     },
     "output_type": "display_data"
    }
   ],
   "source": [
    "#Visualize the closing price history\n",
    "plt.figure(figsize=(16,8))\n",
    "plt.title('Close Price History')\n",
    "plt.plot(df['Close'])\n",
    "plt.xlabel('Date', fontsize=18)\n",
    "plt.ylabel('Close Price INR', fontsize=18)\n",
    "plt.show()"
   ]
  },
  {
   "cell_type": "code",
   "execution_count": 19,
   "metadata": {},
   "outputs": [
    {
     "data": {
      "text/plain": [
       "984"
      ]
     },
     "execution_count": 19,
     "metadata": {},
     "output_type": "execute_result"
    }
   ],
   "source": [
    "data = df.filter(['Close'])\n",
    "dataset = data.values\n",
    "training_data_len = math.ceil(len(dataset) * .8)\n",
    "training_data_len"
   ]
  },
  {
   "cell_type": "code",
   "execution_count": 21,
   "metadata": {},
   "outputs": [
    {
     "data": {
      "text/plain": [
       "array([[0.8941604 ],\n",
       "       [0.91315989],\n",
       "       [0.94089874],\n",
       "       ...,\n",
       "       [0.00307249],\n",
       "       [0.00422469],\n",
       "       [0.00393664]])"
      ]
     },
     "execution_count": 21,
     "metadata": {},
     "output_type": "execute_result"
    }
   ],
   "source": [
    "scaler = MinMaxScaler(feature_range =(0,1))\n",
    "scaled_data = scaler.fit_transform(dataset)\n",
    "scaled_data"
   ]
  },
  {
   "cell_type": "code",
   "execution_count": 27,
   "metadata": {},
   "outputs": [],
   "source": [
    "train_data = scaled_data[0:training_data_len,:]\n",
    "train_data.shape\n",
    "x_train = []\n",
    "y_train = []\n",
    "\n",
    "for i in range(60,len(train_data)):\n",
    "    x_train.append(train_data[i-60:i,0])\n",
    "    y_train.append(train_data[i,0])"
   ]
  },
  {
   "cell_type": "code",
   "execution_count": 28,
   "metadata": {},
   "outputs": [],
   "source": [
    "x_train ,y_train = np.array(x_train),np.array(y_train)"
   ]
  },
  {
   "cell_type": "code",
   "execution_count": 29,
   "metadata": {
    "scrolled": true
   },
   "outputs": [
    {
     "data": {
      "text/plain": [
       "(924, 60, 1)"
      ]
     },
     "execution_count": 29,
     "metadata": {},
     "output_type": "execute_result"
    }
   ],
   "source": [
    "x_train = np.reshape(x_train,(x_train.shape[0],x_train.shape[1],1))\n",
    "x_train.shape"
   ]
  },
  {
   "cell_type": "code",
   "execution_count": 78,
   "metadata": {},
   "outputs": [],
   "source": [
    "model = tf.keras.Sequential()\n",
    "model.add(tf.keras.layers.LSTM(50, return_sequences = True,input_shape=(x_train.shape[1],1)))\n",
    "model.add(tf.keras.layers.LSTM(50,return_sequences = False))\n",
    "model.add(tf.keras.layers.Dense(25))\n",
    "model.add(tf.keras.layers.Dense(1))"
   ]
  },
  {
   "cell_type": "code",
   "execution_count": 79,
   "metadata": {},
   "outputs": [],
   "source": [
    "model.compile(optimizer = 'adam',loss = 'mean_squared_error')"
   ]
  },
  {
   "cell_type": "code",
   "execution_count": 129,
   "metadata": {},
   "outputs": [
    {
     "name": "stdout",
     "output_type": "stream",
     "text": [
      "Train on 924 samples\n",
      "Epoch 1/20\n",
      "924/924 [==============================] - 2s 2ms/sample - loss: 9.4534e-04\n",
      "Epoch 2/20\n",
      "924/924 [==============================] - 2s 2ms/sample - loss: 8.8722e-04\n",
      "Epoch 3/20\n",
      "924/924 [==============================] - 2s 2ms/sample - loss: 8.5768e-04\n",
      "Epoch 4/20\n",
      "924/924 [==============================] - 2s 2ms/sample - loss: 8.6317e-04\n",
      "Epoch 5/20\n",
      "924/924 [==============================] - 2s 2ms/sample - loss: 8.6458e-04\n",
      "Epoch 6/20\n",
      "924/924 [==============================] - 2s 2ms/sample - loss: 8.0454e-04\n",
      "Epoch 7/20\n",
      "924/924 [==============================] - 2s 2ms/sample - loss: 9.3614e-04\n",
      "Epoch 8/20\n",
      "924/924 [==============================] - 2s 2ms/sample - loss: 7.8861e-04\n",
      "Epoch 9/20\n",
      "924/924 [==============================] - 2s 2ms/sample - loss: 7.6863e-04\n",
      "Epoch 10/20\n",
      "924/924 [==============================] - 2s 2ms/sample - loss: 8.8335e-04\n",
      "Epoch 11/20\n",
      "924/924 [==============================] - 2s 2ms/sample - loss: 9.7172e-04\n",
      "Epoch 12/20\n",
      "924/924 [==============================] - 2s 2ms/sample - loss: 8.4427e-04\n",
      "Epoch 13/20\n",
      "924/924 [==============================] - 2s 2ms/sample - loss: 7.7237e-04\n",
      "Epoch 14/20\n",
      "924/924 [==============================] - 2s 2ms/sample - loss: 7.0524e-04\n",
      "Epoch 15/20\n",
      "924/924 [==============================] - 2s 2ms/sample - loss: 6.9859e-04\n",
      "Epoch 16/20\n",
      "924/924 [==============================] - 2s 2ms/sample - loss: 7.2516e-04\n",
      "Epoch 17/20\n",
      "924/924 [==============================] - 2s 2ms/sample - loss: 7.1375e-04\n",
      "Epoch 18/20\n",
      "924/924 [==============================] - 2s 2ms/sample - loss: 6.7980e-04\n",
      "Epoch 19/20\n",
      "924/924 [==============================] - 2s 2ms/sample - loss: 6.3851e-04\n",
      "Epoch 20/20\n",
      "924/924 [==============================] - 2s 2ms/sample - loss: 6.8114e-04\n"
     ]
    },
    {
     "data": {
      "text/plain": [
       "<tensorflow.python.keras.callbacks.History at 0x7f15b44d5cc0>"
      ]
     },
     "execution_count": 129,
     "metadata": {},
     "output_type": "execute_result"
    }
   ],
   "source": [
    "model.fit(x_train,y_train,epochs=20)"
   ]
  },
  {
   "cell_type": "code",
   "execution_count": 130,
   "metadata": {},
   "outputs": [],
   "source": [
    "test_data = scaled_data[training_data_len -60:,:]\n",
    "x_test = []\n",
    "y_test = dataset[training_data_len:,:]\n",
    "for i in range (60,len(test_data)):\n",
    "    x_test.append(test_data[i-60:i,0])"
   ]
  },
  {
   "cell_type": "code",
   "execution_count": 131,
   "metadata": {},
   "outputs": [],
   "source": [
    "x_test = np.array(x_test)"
   ]
  },
  {
   "cell_type": "code",
   "execution_count": 132,
   "metadata": {},
   "outputs": [],
   "source": [
    "x_test = np.reshape(x_test,(x_test.shape[0],x_test.shape[1],1))\n"
   ]
  },
  {
   "cell_type": "code",
   "execution_count": 133,
   "metadata": {},
   "outputs": [],
   "source": [
    "predictions = model.predict(x_test)\n",
    "predictions = scaler.inverse_transform(predictions)"
   ]
  },
  {
   "cell_type": "code",
   "execution_count": 134,
   "metadata": {},
   "outputs": [
    {
     "data": {
      "text/plain": [
       "count    1230.000000\n",
       "mean      337.881532\n",
       "std       131.573221\n",
       "min        68.599998\n",
       "25%       185.650005\n",
       "50%       371.875000\n",
       "75%       445.212501\n",
       "max       589.349976\n",
       "Name: Close, dtype: float64"
      ]
     },
     "execution_count": 134,
     "metadata": {},
     "output_type": "execute_result"
    }
   ],
   "source": [
    "df['Close'].describe()"
   ]
  },
  {
   "cell_type": "code",
   "execution_count": 135,
   "metadata": {},
   "outputs": [
    {
     "data": {
      "text/plain": [
       "10.490668914071072"
      ]
     },
     "execution_count": 135,
     "metadata": {},
     "output_type": "execute_result"
    }
   ],
   "source": [
    "rmse = np.sqrt(np.mean(((predictions - y_test)**2)))\n",
    "rmse"
   ]
  },
  {
   "cell_type": "code",
   "execution_count": 136,
   "metadata": {},
   "outputs": [
    {
     "name": "stderr",
     "output_type": "stream",
     "text": [
      "/snap/jupyter/6/lib/python3.7/site-packages/ipykernel_launcher.py:3: SettingWithCopyWarning: \n",
      "A value is trying to be set on a copy of a slice from a DataFrame.\n",
      "Try using .loc[row_indexer,col_indexer] = value instead\n",
      "\n",
      "See the caveats in the documentation: https://pandas.pydata.org/pandas-docs/stable/user_guide/indexing.html#returning-a-view-versus-a-copy\n",
      "  This is separate from the ipykernel package so we can avoid doing imports until\n"
     ]
    },
    {
     "data": {
      "image/png": "[encoded data removed]",
      "text/plain": [
       "<Figure size 1152x576 with 1 Axes>"
      ]
     },
     "metadata": {
      "needs_background": "light"
     },
     "output_type": "display_data"
    }
   ],
   "source": [
    "train = data[:training_data_len]\n",
    "valid = data[training_data_len:]\n",
    "valid['Predictions'] = predictions\n",
    "\n",
    "plt.figure(figsize=(16,8))\n",
    "plt.title('Model')\n",
    "plt.xlabel('Date', fontsize=18)\n",
    "plt.ylabel('Close Price INR', fontsize=18)\n",
    "plt.plot(train['Close'])\n",
    "plt.plot(valid[['Close','Predictions']])\n",
    "plt.legend(['Train', 'Val', 'Predictions'], loc='lower right')\n",
    "plt.show()"
   ]
  },
  {
   "cell_type": "code",
   "execution_count": 137,
   "metadata": {},
   "outputs": [
    {
     "data": {
      "text/html": [
       "<div>\n",
       "<style scoped>\n",
       "    .dataframe tbody tr th:only-of-type {\n",
       "        vertical-align: middle;\n",
       "    }\n",
       "\n",
       "    .dataframe tbody tr th {\n",
       "        vertical-align: top;\n",
       "    }\n",
       "\n",
       "    .dataframe thead th {\n",
       "        text-align: right;\n",
       "    }\n",
       "</style>\n",
       "<table border=\"1\" class=\"dataframe\">\n",
       "  <thead>\n",
       "    <tr style=\"text-align: right;\">\n",
       "      <th></th>\n",
       "      <th>Close</th>\n",
       "      <th>Predictions</th>\n",
       "    </tr>\n",
       "  </thead>\n",
       "  <tbody>\n",
       "    <tr>\n",
       "      <th>984</th>\n",
       "      <td>173.100006</td>\n",
       "      <td>179.182266</td>\n",
       "    </tr>\n",
       "    <tr>\n",
       "      <th>985</th>\n",
       "      <td>169.899994</td>\n",
       "      <td>177.548798</td>\n",
       "    </tr>\n",
       "    <tr>\n",
       "      <th>986</th>\n",
       "      <td>170.600006</td>\n",
       "      <td>175.751221</td>\n",
       "    </tr>\n",
       "    <tr>\n",
       "      <th>987</th>\n",
       "      <td>187.149994</td>\n",
       "      <td>174.189026</td>\n",
       "    </tr>\n",
       "    <tr>\n",
       "      <th>988</th>\n",
       "      <td>202.800003</td>\n",
       "      <td>175.040314</td>\n",
       "    </tr>\n",
       "    <tr>\n",
       "      <th>...</th>\n",
       "      <td>...</td>\n",
       "      <td>...</td>\n",
       "    </tr>\n",
       "    <tr>\n",
       "      <th>1226</th>\n",
       "      <td>69.699997</td>\n",
       "      <td>83.531700</td>\n",
       "    </tr>\n",
       "    <tr>\n",
       "      <th>1227</th>\n",
       "      <td>68.599998</td>\n",
       "      <td>80.580002</td>\n",
       "    </tr>\n",
       "    <tr>\n",
       "      <th>1228</th>\n",
       "      <td>70.199997</td>\n",
       "      <td>78.037079</td>\n",
       "    </tr>\n",
       "    <tr>\n",
       "      <th>1229</th>\n",
       "      <td>70.800003</td>\n",
       "      <td>76.182266</td>\n",
       "    </tr>\n",
       "    <tr>\n",
       "      <th>1230</th>\n",
       "      <td>70.650002</td>\n",
       "      <td>74.993301</td>\n",
       "    </tr>\n",
       "  </tbody>\n",
       "</table>\n",
       "<p>246 rows × 2 columns</p>\n",
       "</div>"
      ],
      "text/plain": [
       "           Close  Predictions\n",
       "984   173.100006   179.182266\n",
       "985   169.899994   177.548798\n",
       "986   170.600006   175.751221\n",
       "987   187.149994   174.189026\n",
       "988   202.800003   175.040314\n",
       "...          ...          ...\n",
       "1226   69.699997    83.531700\n",
       "1227   68.599998    80.580002\n",
       "1228   70.199997    78.037079\n",
       "1229   70.800003    76.182266\n",
       "1230   70.650002    74.993301\n",
       "\n",
       "[246 rows x 2 columns]"
      ]
     },
     "execution_count": 137,
     "metadata": {},
     "output_type": "execute_result"
    }
   ],
   "source": [
    "valid"
   ]
  },
  {
   "cell_type": "code",
   "execution_count": 126,
   "metadata": {},
   "outputs": [
    {
     "name": "stdout",
     "output_type": "stream",
     "text": [
      "[[76.86589]]\n"
     ]
    }
   ],
   "source": [
    "df1 = df\n",
    "new_df = df.filter(['Close'])\n",
    "last_60_days = new_df[-61:-1].values\n",
    "last_60_days_scaled = scaler.transform(last_60_days)\n",
    "X_test = []\n",
    "X_test.append(last_60_days_scaled)\n",
    "X_test = np.array(X_test)\n",
    "X_test = np.reshape(X_test,(X_test.shape[0],X_test.shape[1],1))\n",
    "\n",
    "pred_price = model.predict(X_test)\n",
    "\n",
    "pred_price = scaler.inverse_transform(pred_price)\n",
    "print(pred_price)"
   ]
  },
  {
   "cell_type": "code",
   "execution_count": 127,
   "metadata": {},
   "outputs": [
    {
     "data": {
      "text/html": [
       "<div>\n",
       "<style scoped>\n",
       "    .dataframe tbody tr th:only-of-type {\n",
       "        vertical-align: middle;\n",
       "    }\n",
       "\n",
       "    .dataframe tbody tr th {\n",
       "        vertical-align: top;\n",
       "    }\n",
       "\n",
       "    .dataframe thead th {\n",
       "        text-align: right;\n",
       "    }\n",
       "</style>\n",
       "<table border=\"1\" class=\"dataframe\">\n",
       "  <thead>\n",
       "    <tr style=\"text-align: right;\">\n",
       "      <th></th>\n",
       "      <th>Date</th>\n",
       "      <th>Open</th>\n",
       "      <th>High</th>\n",
       "      <th>Low</th>\n",
       "      <th>Close</th>\n",
       "      <th>Adj Close</th>\n",
       "      <th>Volume</th>\n",
       "    </tr>\n",
       "  </thead>\n",
       "  <tbody>\n",
       "    <tr>\n",
       "      <th>1230</th>\n",
       "      <td>2020-03-27</td>\n",
       "      <td>71.050003</td>\n",
       "      <td>75.849998</td>\n",
       "      <td>69.400002</td>\n",
       "      <td>70.650002</td>\n",
       "      <td>70.650002</td>\n",
       "      <td>2962238.0</td>\n",
       "    </tr>\n",
       "  </tbody>\n",
       "</table>\n",
       "</div>"
      ],
      "text/plain": [
       "            Date       Open       High        Low      Close  Adj Close  \\\n",
       "1230  2020-03-27  71.050003  75.849998  69.400002  70.650002  70.650002   \n",
       "\n",
       "         Volume  \n",
       "1230  2962238.0  "
      ]
     },
     "execution_count": 127,
     "metadata": {},
     "output_type": "execute_result"
    }
   ],
   "source": [
    "df1.tail(1)"
   ]
  },
  {
   "cell_type": "code",
   "execution_count": 128,
   "metadata": {},
   "outputs": [
    {
     "name": "stdout",
     "output_type": "stream",
     "text": [
      "Date\n",
      "2020-03-27    70.650002\n",
      "Name: Close, dtype: float64\n"
     ]
    }
   ],
   "source": [
    "import pandas_datareader as web\n",
    "real_data = web.DataReader('TATAMOTORS.BO',data_source ='yahoo',start='2020-3-27',end = '2020-3-27')\n",
    "print(real_data['Close'])"
   ]
  },
  {
   "cell_type": "code",
   "execution_count": null,
   "metadata": {},
   "outputs": [],
   "source": []
  },
  {
   "cell_type": "code",
   "execution_count": null,
   "metadata": {},
   "outputs": [],
   "source": []
  }
 ],
 "metadata": {
  "kernelspec": {
   "display_name": "Python 3",
   "language": "python",
   "name": "python3"
  },
  "language_info": {
   "codemirror_mode": {
    "name": "ipython",
    "version": 3
   },
   "file_extension": ".py",
   "mimetype": "text/x-python",
   "name": "python",
   "nbconvert_exporter": "python",
   "pygments_lexer": "ipython3",
   "version": "3.7.3"
  }
 },
 "nbformat": 4,
 "nbformat_minor": 2
}
